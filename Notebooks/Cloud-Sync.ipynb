{
 "cells": [
  {
   "cell_type": "markdown",
   "metadata": {},
   "source": [
    "# Trigger Cloud Sync Replication within Jupyter Notebook"
   ]
  },
  {
   "cell_type": "markdown",
   "metadata": {},
   "source": [
    "This playbook demonstrates how to trigger a NetApp Cloud Sync update from within a Jupyter Notebook"
   ]
  },
  {
   "cell_type": "markdown",
   "metadata": {},
   "source": [
    "## Import needed modules"
   ]
  },
  {
   "cell_type": "code",
   "execution_count": 1,
   "metadata": {},
   "outputs": [],
   "source": [
    "import requests, json, time"
   ]
  },
  {
   "cell_type": "markdown",
   "metadata": {},
   "source": [
    "## Define classes and functions"
   ]
  },
  {
   "cell_type": "markdown",
   "metadata": {},
   "source": [
    "First, we define a class for a new error type. Errors of this type will be raised when an API resposne is not as expected"
   ]
  },
  {
   "cell_type": "code",
   "execution_count": 2,
   "metadata": {},
   "outputs": [],
   "source": [
    "## API response error class; objects of this class will be raised when an API resposne is not as expected\n",
    "class APIResponseError(Exception) :\n",
    "    '''Error that will be raised when an API response is not as expected'''\n",
    "    pass"
   ]
  },
  {
   "cell_type": "markdown",
   "metadata": {},
   "source": [
    "Next, we define generic function for printing an API response"
   ]
  },
  {
   "cell_type": "code",
   "execution_count": 3,
   "metadata": {},
   "outputs": [],
   "source": [
    "## Generic function for printing an API response\n",
    "def printAPIResponse(response: requests.Response) :\n",
    "    print(\"API Response:\")\n",
    "    print(\"Status Code: \", response.status_code)\n",
    "    print(\"Header: \", response.headers)\n",
    "    if response.text :\n",
    "        print(\"Body: \", response.text)"
   ]
  },
  {
   "cell_type": "markdown",
   "metadata": {},
   "source": [
    "Next, we define a function for obtaining our Cloud Sync API access token and account ID. The access token and account ID will be needed in order to call the Cloud Sync API to trigger the replication update."
   ]
  },
  {
   "cell_type": "code",
   "execution_count": 4,
   "metadata": {},
   "outputs": [],
   "source": [
    "## Function for obtaining access token and account ID for calling Cloud Sync API\n",
    "def netappCloudSyncAuth(refreshToken: str) :\n",
    "    ## Step 1: Obtain limited time access token using refresh token\n",
    "    \n",
    "    # Define parameters for API call\n",
    "    url = \"https://netapp-cloud-account.auth0.com/oauth/token\"\n",
    "    headers = {\n",
    "        \"Content-Type\": \"application/json\"\n",
    "    }\n",
    "    data = {\n",
    "        \"grant_type\": \"refresh_token\",\n",
    "        \"refresh_token\": refreshToken,\n",
    "        \"client_id\": \"Mu0V1ywgYteI6w1MbD15fKfVIUrNXGWC\"\n",
    "    }\n",
    "\n",
    "    # Call API to optain access token\n",
    "    response = requests.post(url = url, headers = headers, data = json.dumps(data))\n",
    "\n",
    "    # Parse response to retrieve access token\n",
    "    try :\n",
    "        responseBody = json.loads(response.text)\n",
    "        accessToken = responseBody[\"access_token\"]\n",
    "    except :\n",
    "        errorMessage = \"Error obtaining access token from Cloud Sync API\"\n",
    "        raise APIResponseError(errorMessage, response)\n",
    "\n",
    "    ## Step 2: Obtain account ID\n",
    "\n",
    "    # Define parameters for API call\n",
    "    url = \"https://cloudsync.netapp.com/api/accounts\"\n",
    "    headers = {\n",
    "        \"Content-Type\": \"application/json\",\n",
    "        \"Authorization\": \"Bearer \" + accessToken\n",
    "    }\n",
    "\n",
    "    # Call API to obtain account ID\n",
    "    response = requests.get(url = url, headers = headers)\n",
    "\n",
    "    # Parse response to retrieve account ID\n",
    "    try :\n",
    "        responseBody = json.loads(response.text)\n",
    "        accountId = responseBody[0][\"accountId\"]\n",
    "    except :\n",
    "        errorMessage = \"Error obtaining account ID from Cloud Sync API\"\n",
    "        raise APIResponseError(errorMessage, response)\n",
    "\n",
    "    # Return access token and account ID\n",
    "    return accessToken, accountId"
   ]
  },
  {
   "cell_type": "markdown",
   "metadata": {},
   "source": [
    "Next, we define a function for actually triggering the Cloud Sync update"
   ]
  },
  {
   "cell_type": "code",
   "execution_count": 5,
   "metadata": {},
   "outputs": [],
   "source": [
    "## Function for triggering an update for a specific Cloud Sync relationship\n",
    "def netappCloudSyncUpdate(refreshToken: str, relationshipId: str, printResponse: bool = True) :\n",
    "    # Step 1: Obtain access token and account ID for accessing Cloud Sync API\n",
    "    try :\n",
    "        accessToken, accountId = netappCloudSyncAuth(refreshToken = refreshToken)\n",
    "    except APIResponseError as err:\n",
    "        if printResponse :\n",
    "            errorMessage = err.args[0]\n",
    "            response = err.args[1]\n",
    "            print(errorMessage)\n",
    "            printAPIResponse(response)\n",
    "        raise\n",
    "\n",
    "    # Step 2: Trigger Cloud Sync update\n",
    "\n",
    "    # Define parameters for API call\n",
    "    url = \"https://cloudsync.netapp.com/api/relationships/%s/sync\" % (relationshipId)\n",
    "    headers = {\n",
    "        \"Content-Type\": \"application/json\",\n",
    "        \"Accept\": \"application/json\",\n",
    "        \"x-account-id\": accountId,\n",
    "        \"Authorization\": \"Bearer \" + accessToken\n",
    "    }\n",
    "\n",
    "    # Call API to trigger update\n",
    "    response = requests.put(url = url, headers = headers)\n",
    "\n",
    "    # Check for API response status code of 202; if not 202, raise error\n",
    "    if response.status_code != 202 :\n",
    "        errorMessage = \"Error calling Cloud Sync API to trigger update.\"\n",
    "        if printResponse :\n",
    "            print(errorMessage)\n",
    "            printAPIResponse(response)\n",
    "        raise APIResponseError(errorMessage, response)\n",
    "\n",
    "    # Print API response\n",
    "    if printResponse :\n",
    "        print(\"Note: Status Code 202 denotes that update was successfully triggered.\")\n",
    "        printAPIResponse(response)"
   ]
  },
  {
   "cell_type": "markdown",
   "metadata": {},
   "source": [
    "Lastly, we define a function for monitoring the progress of the latest replication update"
   ]
  },
  {
   "cell_type": "code",
   "execution_count": 6,
   "metadata": {},
   "outputs": [],
   "source": [
    "## Function for monitoring the progress of the latest update for a specific Cloud Sync relationship\n",
    "def netappCloudSyncMonitor(refreshToken: str, relationshipId: str, keepCheckingUntilComplete: bool = True, printProgress: bool = True, printResponses: bool = False) :\n",
    "    # Step 1: Obtain access token and account ID for accessing Cloud Sync API\n",
    "    try :\n",
    "        accessToken, accountId = netappCloudSyncAuth(refreshToken = refreshToken)\n",
    "    except APIResponseError as err:\n",
    "        if printResponse :\n",
    "            errorMessage = err.args[0]\n",
    "            response = err.args[1]\n",
    "            print(errorMessage)\n",
    "            printAPIResponse(response)\n",
    "        raise\n",
    "\n",
    "    # Step 2: Obtain status of the latest update; optionally, keep checking until the latest update has completed\n",
    "\n",
    "    while True :\n",
    "        # Define parameters for API call\n",
    "        url = \"https://cloudsync.netapp.com/api/relationships-v2/%s\" % (relationshipId)\n",
    "        headers = {\n",
    "            \"Accept\": \"application/json\",\n",
    "            \"x-account-id\": accountId,\n",
    "            \"Authorization\": \"Bearer \" + accessToken\n",
    "        }\n",
    "\n",
    "        # Call API to obtain status of latest update\n",
    "        response = requests.get(url = url, headers = headers)\n",
    "        \n",
    "        # Print API response\n",
    "        if printResponses :\n",
    "            printAPIResponse(response)\n",
    "\n",
    "        # Parse response to retrieve status of latest update\n",
    "        try :\n",
    "            responseBody = json.loads(response.text)\n",
    "            latestActivityType = responseBody[\"activity\"][\"type\"]\n",
    "            latestActivityStatus = responseBody[\"activity\"][\"status\"]\n",
    "        except :\n",
    "            errorMessage = \"Error status of latest update from Cloud Sync API\"\n",
    "            raise APIResponseError(errorMessage, response)\n",
    "        \n",
    "        # End execution if the latest update is complete\n",
    "        if latestActivityType == \"Sync\" and latestActivityStatus == \"DONE\" :\n",
    "            if printProgress :\n",
    "                print(\"Success: Cloud Sync update is complete.\")\n",
    "            break\n",
    "            \n",
    "        # Print message re: progress\n",
    "        if printProgress : \n",
    "            print(\"Cloud Sync update is not yet complete.\")\n",
    "        \n",
    "        # End execution if calling program doesn't want to monitor until the latest update has completed\n",
    "        if not keepCheckingUntilComplete :\n",
    "            break\n",
    "            \n",
    "        # Sleep for 60 seconds before checking progress again\n",
    "        print(\"Checking again in 60 seconds...\")\n",
    "        time.sleep(60)"
   ]
  },
  {
   "cell_type": "markdown",
   "metadata": {},
   "source": [
    "## Set Cloud Sync refresh token"
   ]
  },
  {
   "cell_type": "markdown",
   "metadata": {},
   "source": [
    "A refresh token is needed in order to obtain an access token. If you do not yet have a refresh token, you can create one here: https://services.cloud.netapp.com/refresh-token."
   ]
  },
  {
   "cell_type": "code",
   "execution_count": 7,
   "metadata": {},
   "outputs": [],
   "source": [
    "refreshToken = \"<enter your refresh token>\""
   ]
  },
  {
   "cell_type": "markdown",
   "metadata": {},
   "source": [
    "## Optional: obtain Cloud Sync relationship ID"
   ]
  },
  {
   "cell_type": "markdown",
   "metadata": {},
   "source": [
    "If you do not already know the relationship ID for the specific Cloud Sync relationship that you wish to trigger an update for, then you must obtain it. In order to do this, we define a function for obtaining a list of all Cloud Sync relationships that are tied to our account.\n",
    "\n",
    "If you already know the relationship id for the specific relationship that you wish to trigger an update for, then you can skip this section"
   ]
  },
  {
   "cell_type": "code",
   "execution_count": 8,
   "metadata": {},
   "outputs": [],
   "source": [
    "def netappCloudSyncGetRelationships(refreshToken: str, printResponse: bool = True) :\n",
    "    # Step 1: Obtain access token and account ID for accessing Cloud Sync API\n",
    "    try :\n",
    "        accessToken, accountId = netappCloudSyncAuth(refreshToken = refreshToken)\n",
    "    except APIResponseError as err:\n",
    "        if printResponse :\n",
    "            errorMessage = err.args[0]\n",
    "            response = err.args[1]\n",
    "            print(errorMessage)\n",
    "            printAPIResponse(response)\n",
    "        raise\n",
    "\n",
    "    # Step 2: Retrieve list of relationships\n",
    "\n",
    "    # Define parameters for API call\n",
    "    url = \"https://cloudsync.netapp.com/api/relationships-v2\"\n",
    "    headers = {\n",
    "        \"Accept\": \"application/json\",\n",
    "        \"x-account-id\": accountId,\n",
    "        \"Authorization\": \"Bearer \" + accessToken\n",
    "    }\n",
    "\n",
    "    # Call API to retrieve list of relationships\n",
    "    response = requests.get(url = url, headers = headers)\n",
    "\n",
    "    # Check for API response status code of 200; if not 200, raise error\n",
    "    if response.status_code != 200 :\n",
    "        errorMessage = \"Error calling Cloud Sync API to retrieve list of relationships.\"\n",
    "        if printResponse :\n",
    "            print(errorMessage)\n",
    "            printAPIResponse(response)\n",
    "        raise APIResponseError(errorMessage, response)\n",
    "\n",
    "    # Print API response\n",
    "    if printResponse :\n",
    "        print(\"API Response:\")\n",
    "        print(\"Note: Status Code 200 denotes success.\")\n",
    "        print(\"Status Code: \", response.status_code)\n",
    "        print(\"Header: \", response.headers)\n",
    "        print(\"Body: \", response.text)\n",
    "    \n",
    "    # Return json object containing response body\n",
    "    responseBody = json.loads(response.text)\n",
    "    return responseBody"
   ]
  },
  {
   "cell_type": "markdown",
   "metadata": {},
   "source": [
    "Now, we wil call the function that we just defined. If you receive an error, try restarting the kernel and running again."
   ]
  },
  {
   "cell_type": "code",
   "execution_count": 9,
   "metadata": {},
   "outputs": [
    {
     "name": "stdout",
     "output_type": "stream",
     "text": [
      "API Response:\n",
      "Note: Status Code 200 denotes success.\n",
      "Status Code:  200\n",
      "Header:  {'Date': 'Fri, 29 May 2020 19:23:15 GMT', 'Content-Type': 'application/json; charset=utf-8', 'Transfer-Encoding': 'chunked', 'Connection': 'keep-alive', 'X-DNS-Prefetch-Control': 'off', 'Strict-Transport-Security': 'max-age=15552000; includeSubDomains', 'X-Download-Options': 'noopen', 'X-Content-Type-Options': 'nosniff', 'X-XSS-Protection': '1; mode=block', 'X-DFIO-Req-Id': '16b50864-666f-4e73-a74e-9d6e525137f5', 'Access-Control-Allow-Origin': '*', 'ETag': 'W/\"bdf-w7B1rN0+gXeBim4ZLbHJoM2pyiA\"', 'Vary': 'Accept-Encoding', 'Content-Encoding': 'gzip'}\n",
      "Body:  [{\"isQstack\":false,\"isCvo\":false,\"isCm\":false,\"phase\":\"Sync\",\"source\":{\"protocol\":\"nfs\",\"nfs\":{\"host\":\"192.168.200.41\",\"export\":\"/trident_pvc_1b3d8a1c_b3d5_4a3a_a767_a936dfe52871\",\"path\":\"\",\"version\":\"3\",\"provider\":\"nfs\"}},\"target\":{\"protocol\":\"nfs\",\"nfs\":{\"host\":\"192.168.200.41\",\"export\":\"/trident_pvc_0361a52b_9f65_4adc_9092_aafeb602a809\",\"path\":\"\",\"version\":\"3\",\"provider\":\"nfs\"}},\"settings\":{\"gracePeriod\":30,\"deleteOnSource\":false,\"deleteOnTarget\":false,\"objectTagging\":true,\"retries\":3,\"copyAcl\":false,\"files\":{\"excludeExtensions\":[],\"maxSize\":9007199254740991,\"minSize\":0,\"minDate\":\"1970-01-01\",\"maxDate\":null},\"fileTypes\":{\"files\":true,\"directories\":true,\"symlinks\":true},\"schedule\":{\"syncInDays\":1,\"syncInHours\":0,\"syncInMinutes\":0,\"isEnabled\":false,\"syncWhenCreated\":true,\"nextTime\":\"2020-05-29T18:00:00.000Z\"}},\"dataBroker\":{\"lastPing\":{\"wasabi\":1590780193457},\"type\":\"ONPREM\",\"name\":\"ailab01\",\"groupId\":\"5ea35f9fac30c3972da9f533\",\"createdAt\":1587765162950,\"transferRate\":1049.21968787515,\"updateNewVersion\":true,\"id\":\"5ea35f9f94465a000a7c9fc3\",\"placement\":{\"hostname\":\"ubuntu1804\",\"platform\":\"linux\",\"privateIp\":\"10.61.188.114\",\"version\":\"1.3.0.17118-85c1cf2-production\",\"os\":\"Linux\",\"release\":\"4.15.0-96-generic\",\"osTotalMem\":\"16819924992\",\"node\":\"14.0.0\",\"cpus\":\"4\",\"processMaxMem\":\"78729216\"},\"status\":\"COMPLETE\",\"fileLink\":\"https://cf.cloudsync.netapp.com/5ea35f9f94465a000a7c9fc3_installer\"},\"group\":{\"dataBrokers\":[{\"lastPing\":{\"wasabi\":1590780193457},\"type\":\"ONPREM\",\"name\":\"ailab01\",\"groupId\":\"5ea35f9fac30c3972da9f533\",\"createdAt\":1587765162950,\"transferRate\":1049.21968787515,\"updateNewVersion\":true,\"id\":\"5ea35f9f94465a000a7c9fc3\",\"placement\":{\"hostname\":\"ubuntu1804\",\"platform\":\"linux\",\"privateIp\":\"10.61.188.114\",\"version\":\"1.3.0.17118-85c1cf2-production\",\"os\":\"Linux\",\"release\":\"4.15.0-96-generic\",\"osTotalMem\":\"16819924992\",\"node\":\"14.0.0\",\"cpus\":\"4\",\"processMaxMem\":\"78729216\"},\"status\":\"COMPLETE\",\"fileLink\":\"https://cf.cloudsync.netapp.com/5ea35f9f94465a000a7c9fc3_installer\"}],\"name\":\"ailab01\",\"createdAt\":\"2020-04-24T21:52:31.258Z\",\"id\":\"5ea35f9fac30c3972da9f533\"},\"startTime\":\"2020-05-29T19:17:10.966Z\",\"createdAt\":1590692247835,\"endTime\":\"2020-05-29T19:19:22.084Z\",\"id\":\"5ed00996ca85650009a83db2\",\"relationshipId\":\"5ed00996ca85650009a83db2\",\"activity\":{\"type\":\"Sync\",\"status\":\"DONE\",\"failureMessage\":\"\",\"executionTime\":131118,\"startTime\":\"2020-05-29T19:17:10.966Z\",\"endTime\":\"2020-05-29T19:19:22.084Z\",\"bytesMarkedForCopy\":0,\"filesMarkedForCopy\":0,\"dirsMarkedForCopy\":0,\"filesCopied\":0,\"bytesCopied\":0,\"dirsCopied\":0,\"filesFailed\":0,\"bytesFailed\":0,\"dirsFailed\":0,\"filesMarkedforRemove\":0,\"bytesMarkedForRemove\":0,\"dirsMarkedForRemove\":0,\"filesRemoved\":0,\"bytesRemoved\":0,\"dirsRemoved\":0,\"bytesRemovedFailed\":0,\"filesRemovedFailed\":0,\"filesMarkedForGrace\":0,\"bytesMarkedForGrace\":0,\"dirsMarkedForGrace\":0,\"filesMarkedForIgnore\":0,\"dirsScanned\":2,\"filesScanned\":1,\"dirsFailedToScan\":0,\"bytesScanned\":0,\"progress\":100,\"lastMessageTime\":\"2020-05-29T19:19:22.107Z\",\"topFiveMostCommonRelationshipErrors\":[]}}]\n"
     ]
    }
   ],
   "source": [
    "relationships = netappCloudSyncGetRelationships(refreshToken = refreshToken)"
   ]
  },
  {
   "cell_type": "markdown",
   "metadata": {},
   "source": [
    "Now, we will print out the list of relationships. Identify the specific relationship in this list that you wish to trigger an update for, and note the relationship id. You will need to enter this relationships id in the next section. If you have multiple relationship set up for the same source and destination, then you will want to change 'printFullDetails' to True."
   ]
  },
  {
   "cell_type": "code",
   "execution_count": 10,
   "metadata": {},
   "outputs": [
    {
     "name": "stdout",
     "output_type": "stream",
     "text": [
      "-- Relationship # 1 --\n",
      "\n",
      "id:  5ed00996ca85650009a83db2\n",
      "source:  {\n",
      "  \"protocol\": \"nfs\",\n",
      "  \"nfs\": {\n",
      "    \"host\": \"192.168.200.41\",\n",
      "    \"export\": \"/trident_pvc_1b3d8a1c_b3d5_4a3a_a767_a936dfe52871\",\n",
      "    \"path\": \"\",\n",
      "    \"version\": \"3\",\n",
      "    \"provider\": \"nfs\"\n",
      "  }\n",
      "}\n",
      "target:  {\n",
      "  \"protocol\": \"nfs\",\n",
      "  \"nfs\": {\n",
      "    \"host\": \"192.168.200.41\",\n",
      "    \"export\": \"/trident_pvc_0361a52b_9f65_4adc_9092_aafeb602a809\",\n",
      "    \"path\": \"\",\n",
      "    \"version\": \"3\",\n",
      "    \"provider\": \"nfs\"\n",
      "  }\n",
      "} \n",
      "\n"
     ]
    }
   ],
   "source": [
    "printFullDetails = False\n",
    "\n",
    "numRelationships = 0\n",
    "for relationship in relationships :\n",
    "    numRelationships+=1\n",
    "    print(\"-- Relationship #\", numRelationships, \"--\\n\")\n",
    "    if printFullDetails:\n",
    "        print(json.dumps(relationship, indent=2), \"\\n\")\n",
    "    else :\n",
    "        print(\"id: \", relationship[\"id\"])\n",
    "        print(\"source: \", json.dumps(relationship[\"source\"], indent=2))\n",
    "        print(\"target: \", json.dumps(relationship[\"target\"], indent=2), \"\\n\")"
   ]
  },
  {
   "cell_type": "markdown",
   "metadata": {},
   "source": [
    "## Set Cloud Sync relationship id"
   ]
  },
  {
   "cell_type": "markdown",
   "metadata": {},
   "source": [
    "Note: this is the same relationship id that we just retrieved in the previous section."
   ]
  },
  {
   "cell_type": "code",
   "execution_count": 11,
   "metadata": {},
   "outputs": [],
   "source": [
    "relationshipId = \"5ed00996ca85650009a83db2\""
   ]
  },
  {
   "cell_type": "markdown",
   "metadata": {},
   "source": [
    "## Trigger Cloud Sync update"
   ]
  },
  {
   "cell_type": "markdown",
   "metadata": {},
   "source": [
    "Lastly, we will call the function that we defined above to trigger an update for our specified Cloud Sync relationship. If you receive an error, try restarting the kernel and running again."
   ]
  },
  {
   "cell_type": "code",
   "execution_count": 12,
   "metadata": {},
   "outputs": [
    {
     "name": "stdout",
     "output_type": "stream",
     "text": [
      "Note: Status Code 202 denotes that update was successfully triggered.\n",
      "API Response:\n",
      "Status Code:  202\n",
      "Header:  {'Date': 'Fri, 29 May 2020 19:23:17 GMT', 'Content-Type': 'application/json; charset=utf-8', 'Transfer-Encoding': 'chunked', 'Connection': 'keep-alive', 'X-DNS-Prefetch-Control': 'off', 'Strict-Transport-Security': 'max-age=15552000; includeSubDomains', 'X-Download-Options': 'noopen', 'X-Content-Type-Options': 'nosniff', 'X-XSS-Protection': '1; mode=block', 'X-DFIO-Req-Id': 'fcf19b4e-9a11-42f0-8dbc-181eb242ee73', 'Access-Control-Allow-Origin': '*', 'Vary': 'Accept-Encoding'}\n"
     ]
    }
   ],
   "source": [
    "netappCloudSyncUpdate(refreshToken = refreshToken, relationshipId = relationshipId)"
   ]
  },
  {
   "cell_type": "markdown",
   "metadata": {},
   "source": [
    "## Check Cloud Sync progress"
   ]
  },
  {
   "cell_type": "code",
   "execution_count": 13,
   "metadata": {},
   "outputs": [
    {
     "name": "stdout",
     "output_type": "stream",
     "text": [
      "Cloud Sync update is not yet complete.\n",
      "Checking again in 60 seconds...\n",
      "Cloud Sync update is not yet complete.\n",
      "Checking again in 60 seconds...\n",
      "Success: Cloud Sync update is complete.\n"
     ]
    }
   ],
   "source": [
    "netappCloudSyncMonitor(refreshToken = refreshToken, relationshipId = relationshipId, keepCheckingUntilComplete = True)"
   ]
  }
 ],
 "metadata": {
  "kernelspec": {
   "display_name": "Python 3",
   "language": "python",
   "name": "python3"
  },
  "language_info": {
   "codemirror_mode": {
    "name": "ipython",
    "version": 3
   },
   "file_extension": ".py",
   "mimetype": "text/x-python",
   "name": "python",
   "nbconvert_exporter": "python",
   "pygments_lexer": "ipython3",
   "version": "3.7.6"
  }
 },
 "nbformat": 4,
 "nbformat_minor": 2
}
