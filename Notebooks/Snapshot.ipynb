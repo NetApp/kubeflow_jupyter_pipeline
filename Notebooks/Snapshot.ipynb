{
 "cells": [
  {
   "cell_type": "markdown",
   "metadata": {},
   "source": [
    "# Create NetApp Snapshot within Jupyter Notebook"
   ]
  },
  {
   "cell_type": "markdown",
   "metadata": {},
   "source": [
    "This notebook demonstrates how to trigger the creation of a snapshot of a NetApp volume from within a Jupyter Notebook"
   ]
  },
  {
   "cell_type": "markdown",
   "metadata": {},
   "source": [
    "## Install netapp_ontap module"
   ]
  },
  {
   "cell_type": "code",
   "execution_count": 1,
   "metadata": {},
   "outputs": [
    {
     "name": "stdout",
     "output_type": "stream",
     "text": [
      "Requirement already satisfied: netapp_ontap in ./.local/lib/python3.6/site-packages (9.7.0)\n",
      "Requirement already satisfied: marshmallow>=3.2.1 in ./.local/lib/python3.6/site-packages (from netapp_ontap) (3.5.0)\n",
      "Requirement already satisfied: requests>=2.21.0 in /usr/local/lib/python3.6/dist-packages (from netapp_ontap) (2.22.0)\n",
      "Requirement already satisfied: chardet<3.1.0,>=3.0.2 in /usr/local/lib/python3.6/dist-packages (from requests>=2.21.0->netapp_ontap) (3.0.4)\n",
      "Requirement already satisfied: urllib3!=1.25.0,!=1.25.1,<1.26,>=1.21.1 in /usr/local/lib/python3.6/dist-packages (from requests>=2.21.0->netapp_ontap) (1.24.3)\n",
      "Requirement already satisfied: certifi>=2017.4.17 in /usr/local/lib/python3.6/dist-packages (from requests>=2.21.0->netapp_ontap) (2019.9.11)\n",
      "Requirement already satisfied: idna<2.9,>=2.5 in /usr/lib/python3/dist-packages (from requests>=2.21.0->netapp_ontap) (2.6)\n",
      "\u001b[33mWARNING: You are using pip version 19.2.3, however version 20.0.2 is available.\n",
      "You should consider upgrading via the 'pip install --upgrade pip' command.\u001b[0m\n",
      "Note: you may need to restart the kernel to use updated packages.\n"
     ]
    }
   ],
   "source": [
    "%pip install --user netapp_ontap"
   ]
  },
  {
   "cell_type": "markdown",
   "metadata": {},
   "source": [
    "## Import needed functions/classes"
   ]
  },
  {
   "cell_type": "code",
   "execution_count": 2,
   "metadata": {},
   "outputs": [],
   "source": [
    "from netapp_ontap import config as netappConfig\n",
    "from netapp_ontap.host_connection import HostConnection as NetAppHostConnection\n",
    "from netapp_ontap.resources import Volume, Snapshot\n",
    "from datetime import datetime\n",
    "import json"
   ]
  },
  {
   "cell_type": "markdown",
   "metadata": {},
   "source": [
    "## Configure connection to ONTAP cluster/instance"
   ]
  },
  {
   "cell_type": "code",
   "execution_count": 3,
   "metadata": {},
   "outputs": [],
   "source": [
    "## Enter connection details for your ONTAP cluster/instance\n",
    "ontapClusterMgmtHostname = '10.61.188.40'\n",
    "ontapClusterAdminUsername = 'admin'\n",
    "ontapClusterAdminPassword = 'NetApp!23'\n",
    "verifySSLCert = False\n",
    "##\n",
    "\n",
    "netappConfig.CONNECTION = NetAppHostConnection(\n",
    "    host = ontapClusterMgmtHostname,\n",
    "    username = ontapClusterAdminUsername,\n",
    "    password = ontapClusterAdminPassword,\n",
    "    verify = verifySSLCert\n",
    ")"
   ]
  },
  {
   "cell_type": "markdown",
   "metadata": {},
   "source": [
    "## Convert pv name to ONTAP volume name"
   ]
  },
  {
   "cell_type": "code",
   "execution_count": 4,
   "metadata": {},
   "outputs": [
    {
     "name": "stdout",
     "output_type": "stream",
     "text": [
      "pv name:  pvc-db963a53-abf2-4ffa-9c07-8815ce78d506\n",
      "ONTAP volume name:  trident_pvc_db963a53_abf2_4ffa_9c07_8815ce78d506\n"
     ]
    }
   ],
   "source": [
    "## Enter the name of pv for which you are creating a snapshot\n",
    "##   Note: To get the name of the pv, you can run `kubectl -n <namespace> get pvc`.\n",
    "##         The name of the pv that corresponds to a given pvc can be found in the 'VOLUME' \n",
    "##         column.\n",
    "pvName = 'pvc-db963a53-abf2-4ffa-9c07-8815ce78d506'\n",
    "##\n",
    "\n",
    "# The following will not work if you specified a custom storagePrefix when creating your\n",
    "#   Trident backend. If you specified a custom storagePrefix, you will need to update this\n",
    "#   code to match your prefix.\n",
    "volumeName = 'trident_%s' % pvName.replace(\"-\", \"_\")\n",
    "print('pv name: ', pvName)\n",
    "print('ONTAP volume name: ', volumeName)"
   ]
  },
  {
   "cell_type": "markdown",
   "metadata": {},
   "source": [
    "## Create snapshot"
   ]
  },
  {
   "cell_type": "code",
   "execution_count": 12,
   "metadata": {
    "scrolled": false
   },
   "outputs": [
    {
     "name": "stdout",
     "output_type": "stream",
     "text": [
      "API Response:\n",
      "{\n",
      "  \"uuid\": \"eeb78b35-684e-11ea-808d-d039ea06439f\",\n",
      "  \"description\": \"POST /api/storage/volumes/691c30cc-4dac-11ea-808d-d039ea06439f/snapshots/?name=jupyter_20200317_180016\",\n",
      "  \"state\": \"success\",\n",
      "  \"message\": \"success\",\n",
      "  \"code\": 0,\n",
      "  \"start_time\": \"2020-03-17T12:58:00+00:00\",\n",
      "  \"end_time\": \"2020-03-17T12:58:01+00:00\",\n",
      "  \"_links\": {\n",
      "    \"self\": {\n",
      "      \"href\": \"/api/cluster/jobs/eeb78b35-684e-11ea-808d-d039ea06439f\"\n",
      "    }\n",
      "  }\n",
      "}\n"
     ]
    }
   ],
   "source": [
    "volume = Volume.find(name = volumeName)\n",
    "timestamp = datetime.today().strftime(\"%Y%m%d_%H%M%S\")\n",
    "snapshot = Snapshot.from_dict({\n",
    "    'name': 'jupyter_%s' % timestamp,\n",
    "    'comment': 'Snapshot created from within a Jupyter Notebook',\n",
    "    'volume': volume.to_dict()\n",
    "})\n",
    "response = snapshot.post()\n",
    "print(\"API Response:\")\n",
    "print(response.http_response.text)"
   ]
  },
  {
   "cell_type": "markdown",
   "metadata": {},
   "source": [
    "## Optional: Retrieve details for newly created snapshot"
   ]
  },
  {
   "cell_type": "code",
   "execution_count": 13,
   "metadata": {
    "scrolled": false
   },
   "outputs": [
    {
     "name": "stdout",
     "output_type": "stream",
     "text": [
      "{\n",
      "  \"create_time\": \"2020-03-17T12:58:01+00:00\",\n",
      "  \"volume\": {\n",
      "    \"name\": \"trident_pvc_db963a53_abf2_4ffa_9c07_8815ce78d506\",\n",
      "    \"uuid\": \"691c30cc-4dac-11ea-808d-d039ea06439f\",\n",
      "    \"_links\": {\n",
      "      \"self\": {\n",
      "        \"href\": \"/api/storage/volumes/691c30cc-4dac-11ea-808d-d039ea06439f\"\n",
      "      }\n",
      "    }\n",
      "  },\n",
      "  \"comment\": \"Snapshot created from within a Jupyter Notebook\",\n",
      "  \"name\": \"jupyter_20200317_180016\",\n",
      "  \"svm\": {\n",
      "    \"name\": \"ai221_data\",\n",
      "    \"uuid\": \"e6121682-3224-11ea-8196-d039ea06490a\",\n",
      "    \"_links\": {\n",
      "      \"self\": {\n",
      "        \"href\": \"/api/svm/svms/e6121682-3224-11ea-8196-d039ea06490a\"\n",
      "      }\n",
      "    }\n",
      "  },\n",
      "  \"uuid\": \"e0ccde47-da43-433d-aa62-31aea7294daa\",\n",
      "  \"_links\": {\n",
      "    \"self\": {\n",
      "      \"href\": \"/api/storage/volumes/691c30cc-4dac-11ea-808d-d039ea06439f/snapshots/e0ccde47-da43-433d-aa62-31aea7294daa\"\n",
      "    }\n",
      "  }\n",
      "}\n"
     ]
    }
   ],
   "source": [
    "snapshot.get()\n",
    "print(json.dumps(snapshot.to_dict(), indent=2))"
   ]
  },
  {
   "cell_type": "markdown",
   "metadata": {},
   "source": [
    "## Optional: Retrieve a list of all snapshots that exist for the volume"
   ]
  },
  {
   "cell_type": "code",
   "execution_count": 7,
   "metadata": {},
   "outputs": [
    {
     "name": "stdout",
     "output_type": "stream",
     "text": [
      "Snapshot #1:\n",
      "{\n",
      "  \"create_time\": \"2020-02-12T15:42:51+00:00\",\n",
      "  \"volume\": {\n",
      "    \"name\": \"trident_pvc_db963a53_abf2_4ffa_9c07_8815ce78d506\",\n",
      "    \"uuid\": \"691c30cc-4dac-11ea-808d-d039ea06439f\",\n",
      "    \"_links\": {\n",
      "      \"self\": {\n",
      "        \"href\": \"/api/storage/volumes/691c30cc-4dac-11ea-808d-d039ea06439f\"\n",
      "      }\n",
      "    }\n",
      "  },\n",
      "  \"name\": \"clone_kfp_clone_202002.0\",\n",
      "  \"svm\": {\n",
      "    \"name\": \"ai221_data\",\n",
      "    \"uuid\": \"e6121682-3224-11ea-8196-d039ea06490a\",\n",
      "    \"_links\": {\n",
      "      \"self\": {\n",
      "        \"href\": \"/api/svm/svms/e6121682-3224-11ea-8196-d039ea06490a\"\n",
      "      }\n",
      "    }\n",
      "  },\n",
      "  \"uuid\": \"a2e40522-86bd-4b2d-91ac-fcfb2fedade3\",\n",
      "  \"_links\": {\n",
      "    \"self\": {\n",
      "      \"href\": \"/api/storage/volumes/691c30cc-4dac-11ea-808d-d039ea06439f/snapshots/a2e40522-86bd-4b2d-91ac-fcfb2fedade3\"\n",
      "    }\n",
      "  }\n",
      "} \n",
      "\n",
      "Snapshot #2:\n",
      "{\n",
      "  \"create_time\": \"2020-02-25T14:55:22+00:00\",\n",
      "  \"volume\": {\n",
      "    \"name\": \"trident_pvc_db963a53_abf2_4ffa_9c07_8815ce78d506\",\n",
      "    \"uuid\": \"691c30cc-4dac-11ea-808d-d039ea06439f\",\n",
      "    \"_links\": {\n",
      "      \"self\": {\n",
      "        \"href\": \"/api/storage/volumes/691c30cc-4dac-11ea-808d-d039ea06439f\"\n",
      "      }\n",
      "    }\n",
      "  },\n",
      "  \"name\": \"clone_kfp_clone_202002.1\",\n",
      "  \"svm\": {\n",
      "    \"name\": \"ai221_data\",\n",
      "    \"uuid\": \"e6121682-3224-11ea-8196-d039ea06490a\",\n",
      "    \"_links\": {\n",
      "      \"self\": {\n",
      "        \"href\": \"/api/svm/svms/e6121682-3224-11ea-8196-d039ea06490a\"\n",
      "      }\n",
      "    }\n",
      "  },\n",
      "  \"uuid\": \"678464f0-1598-4be4-a809-4a19c6fbf0fc\",\n",
      "  \"_links\": {\n",
      "    \"self\": {\n",
      "      \"href\": \"/api/storage/volumes/691c30cc-4dac-11ea-808d-d039ea06439f/snapshots/678464f0-1598-4be4-a809-4a19c6fbf0fc\"\n",
      "    }\n",
      "  }\n",
      "} \n",
      "\n",
      "Snapshot #3:\n",
      "{\n",
      "  \"create_time\": \"2020-03-02T17:03:46+00:00\",\n",
      "  \"volume\": {\n",
      "    \"name\": \"trident_pvc_db963a53_abf2_4ffa_9c07_8815ce78d506\",\n",
      "    \"uuid\": \"691c30cc-4dac-11ea-808d-d039ea06439f\",\n",
      "    \"_links\": {\n",
      "      \"self\": {\n",
      "        \"href\": \"/api/storage/volumes/691c30cc-4dac-11ea-808d-d039ea06439f\"\n",
      "      }\n",
      "    }\n",
      "  },\n",
      "  \"comment\": \"Snapshot created from within a Jupyter Notebook\",\n",
      "  \"name\": \"jupyter_20200302_220520\",\n",
      "  \"svm\": {\n",
      "    \"name\": \"ai221_data\",\n",
      "    \"uuid\": \"e6121682-3224-11ea-8196-d039ea06490a\",\n",
      "    \"_links\": {\n",
      "      \"self\": {\n",
      "        \"href\": \"/api/svm/svms/e6121682-3224-11ea-8196-d039ea06490a\"\n",
      "      }\n",
      "    }\n",
      "  },\n",
      "  \"uuid\": \"5865e0f8-1fd0-4607-91c1-1ce499cab5b3\",\n",
      "  \"_links\": {\n",
      "    \"self\": {\n",
      "      \"href\": \"/api/storage/volumes/691c30cc-4dac-11ea-808d-d039ea06439f/snapshots/5865e0f8-1fd0-4607-91c1-1ce499cab5b3\"\n",
      "    }\n",
      "  }\n",
      "} \n",
      "\n",
      "Snapshot #4:\n",
      "{\n",
      "  \"create_time\": \"2020-03-05T12:02:07+00:00\",\n",
      "  \"volume\": {\n",
      "    \"name\": \"trident_pvc_db963a53_abf2_4ffa_9c07_8815ce78d506\",\n",
      "    \"uuid\": \"691c30cc-4dac-11ea-808d-d039ea06439f\",\n",
      "    \"_links\": {\n",
      "      \"self\": {\n",
      "        \"href\": \"/api/storage/volumes/691c30cc-4dac-11ea-808d-d039ea06439f\"\n",
      "      }\n",
      "    }\n",
      "  },\n",
      "  \"comment\": \"Snapshot created from within a Jupyter Notebook\",\n",
      "  \"name\": \"jupyter_20200305_170349\",\n",
      "  \"svm\": {\n",
      "    \"name\": \"ai221_data\",\n",
      "    \"uuid\": \"e6121682-3224-11ea-8196-d039ea06490a\",\n",
      "    \"_links\": {\n",
      "      \"self\": {\n",
      "        \"href\": \"/api/svm/svms/e6121682-3224-11ea-8196-d039ea06490a\"\n",
      "      }\n",
      "    }\n",
      "  },\n",
      "  \"uuid\": \"bc4eaaeb-8fbd-4ac2-92e0-f59e2dd7329c\",\n",
      "  \"_links\": {\n",
      "    \"self\": {\n",
      "      \"href\": \"/api/storage/volumes/691c30cc-4dac-11ea-808d-d039ea06439f/snapshots/bc4eaaeb-8fbd-4ac2-92e0-f59e2dd7329c\"\n",
      "    }\n",
      "  }\n",
      "} \n",
      "\n",
      "Snapshot #5:\n",
      "{\n",
      "  \"create_time\": \"2020-03-05T12:08:55+00:00\",\n",
      "  \"volume\": {\n",
      "    \"name\": \"trident_pvc_db963a53_abf2_4ffa_9c07_8815ce78d506\",\n",
      "    \"uuid\": \"691c30cc-4dac-11ea-808d-d039ea06439f\",\n",
      "    \"_links\": {\n",
      "      \"self\": {\n",
      "        \"href\": \"/api/storage/volumes/691c30cc-4dac-11ea-808d-d039ea06439f\"\n",
      "      }\n",
      "    }\n",
      "  },\n",
      "  \"name\": \"clone_kfp_clone_202003.0\",\n",
      "  \"svm\": {\n",
      "    \"name\": \"ai221_data\",\n",
      "    \"uuid\": \"e6121682-3224-11ea-8196-d039ea06490a\",\n",
      "    \"_links\": {\n",
      "      \"self\": {\n",
      "        \"href\": \"/api/svm/svms/e6121682-3224-11ea-8196-d039ea06490a\"\n",
      "      }\n",
      "    }\n",
      "  },\n",
      "  \"uuid\": \"c089c532-5bcd-4fe0-bfce-f700bb1df28b\",\n",
      "  \"_links\": {\n",
      "    \"self\": {\n",
      "      \"href\": \"/api/storage/volumes/691c30cc-4dac-11ea-808d-d039ea06439f/snapshots/c089c532-5bcd-4fe0-bfce-f700bb1df28b\"\n",
      "    }\n",
      "  }\n",
      "} \n",
      "\n",
      "Snapshot #6:\n",
      "{\n",
      "  \"create_time\": \"2020-03-05T14:30:45+00:00\",\n",
      "  \"volume\": {\n",
      "    \"name\": \"trident_pvc_db963a53_abf2_4ffa_9c07_8815ce78d506\",\n",
      "    \"uuid\": \"691c30cc-4dac-11ea-808d-d039ea06439f\",\n",
      "    \"_links\": {\n",
      "      \"self\": {\n",
      "        \"href\": \"/api/storage/volumes/691c30cc-4dac-11ea-808d-d039ea06439f\"\n",
      "      }\n",
      "    }\n",
      "  },\n",
      "  \"comment\": \"Snapshot created from within a Jupyter Notebook\",\n",
      "  \"name\": \"jupyter_20200305_193228\",\n",
      "  \"svm\": {\n",
      "    \"name\": \"ai221_data\",\n",
      "    \"uuid\": \"e6121682-3224-11ea-8196-d039ea06490a\",\n",
      "    \"_links\": {\n",
      "      \"self\": {\n",
      "        \"href\": \"/api/svm/svms/e6121682-3224-11ea-8196-d039ea06490a\"\n",
      "      }\n",
      "    }\n",
      "  },\n",
      "  \"uuid\": \"d6e1b5ba-ed0c-4e72-910d-701212ea3acc\",\n",
      "  \"_links\": {\n",
      "    \"self\": {\n",
      "      \"href\": \"/api/storage/volumes/691c30cc-4dac-11ea-808d-d039ea06439f/snapshots/d6e1b5ba-ed0c-4e72-910d-701212ea3acc\"\n",
      "    }\n",
      "  }\n",
      "} \n",
      "\n",
      "Snapshot #7:\n",
      "{\n",
      "  \"create_time\": \"2020-03-05T16:49:24+00:00\",\n",
      "  \"volume\": {\n",
      "    \"name\": \"trident_pvc_db963a53_abf2_4ffa_9c07_8815ce78d506\",\n",
      "    \"uuid\": \"691c30cc-4dac-11ea-808d-d039ea06439f\",\n",
      "    \"_links\": {\n",
      "      \"self\": {\n",
      "        \"href\": \"/api/storage/volumes/691c30cc-4dac-11ea-808d-d039ea06439f\"\n",
      "      }\n",
      "    }\n",
      "  },\n",
      "  \"comment\": \"Snapshot created from within a Jupyter Notebook\",\n",
      "  \"name\": \"jupyter_20200305_215107\",\n",
      "  \"svm\": {\n",
      "    \"name\": \"ai221_data\",\n",
      "    \"uuid\": \"e6121682-3224-11ea-8196-d039ea06490a\",\n",
      "    \"_links\": {\n",
      "      \"self\": {\n",
      "        \"href\": \"/api/svm/svms/e6121682-3224-11ea-8196-d039ea06490a\"\n",
      "      }\n",
      "    }\n",
      "  },\n",
      "  \"uuid\": \"f2bd50f0-ef89-4332-86f6-be80976fb5f5\",\n",
      "  \"_links\": {\n",
      "    \"self\": {\n",
      "      \"href\": \"/api/storage/volumes/691c30cc-4dac-11ea-808d-d039ea06439f/snapshots/f2bd50f0-ef89-4332-86f6-be80976fb5f5\"\n",
      "    }\n",
      "  }\n",
      "} \n",
      "\n",
      "Total Snapshots: 7\n"
     ]
    }
   ],
   "source": [
    "totalSnapshots = 0\n",
    "for volumeSnapshot in Snapshot.get_collection(volume.uuid, max_records = 256) :\n",
    "    totalSnapshots += 1\n",
    "    volumeSnapshot.get()\n",
    "    print(\"Snapshot #%s:\" % totalSnapshots)\n",
    "    print(json.dumps(volumeSnapshot.to_dict(), indent=2), \"\\n\")\n",
    "    \n",
    "print(\"Total Snapshots: %s\" % totalSnapshots)"
   ]
  }
 ],
 "metadata": {
  "kernelspec": {
   "display_name": "Python 3",
   "language": "python",
   "name": "python3"
  },
  "language_info": {
   "codemirror_mode": {
    "name": "ipython",
    "version": 3
   },
   "file_extension": ".py",
   "mimetype": "text/x-python",
   "name": "python",
   "nbconvert_exporter": "python",
   "pygments_lexer": "ipython3",
   "version": "3.6.8"
  }
 },
 "nbformat": 4,
 "nbformat_minor": 2
}
