{
 "cells": [
  {
   "cell_type": "markdown",
   "metadata": {},
   "source": [
    "# Trigger SnapMirror Replication within Jupyter Notebook"
   ]
  },
  {
   "cell_type": "markdown",
   "metadata": {},
   "source": [
    "This notebook demonstrates how to trigger a NetApp SnapMirror update from within a Jupyter Notebook"
   ]
  },
  {
   "cell_type": "markdown",
   "metadata": {},
   "source": [
    "## Import needed modules"
   ]
  },
  {
   "cell_type": "code",
   "execution_count": 1,
   "metadata": {},
   "outputs": [],
   "source": [
    "import sys, subprocess"
   ]
  },
  {
   "cell_type": "markdown",
   "metadata": {},
   "source": [
    "## Install Ansible"
   ]
  },
  {
   "cell_type": "code",
   "execution_count": 2,
   "metadata": {},
   "outputs": [
    {
     "name": "stdout",
     "output_type": "stream",
     "text": [
      "Requirement already satisfied: ansible in ./.local/lib/python3.6/site-packages (2.9.6)\n",
      "Requirement already satisfied: netapp-lib in ./.local/lib/python3.6/site-packages (2020.3.12)\n",
      "Requirement already satisfied: jinja2 in /usr/local/lib/python3.6/dist-packages (from ansible) (2.10.1)\n",
      "Requirement already satisfied: PyYAML in /usr/local/lib/python3.6/dist-packages (from ansible) (5.1.2)\n",
      "Requirement already satisfied: cryptography in /usr/local/lib/python3.6/dist-packages (from ansible) (2.7)\n",
      "Requirement already satisfied: xmltodict in ./.local/lib/python3.6/site-packages (from netapp-lib) (0.12.0)\n",
      "Requirement already satisfied: lxml in ./.local/lib/python3.6/site-packages (from netapp-lib) (4.5.0)\n",
      "Requirement already satisfied: MarkupSafe>=0.23 in /usr/local/lib/python3.6/dist-packages (from jinja2->ansible) (1.1.1)\n",
      "Requirement already satisfied: six>=1.4.1 in /usr/lib/python3/dist-packages (from cryptography->ansible) (1.11.0)\n",
      "Requirement already satisfied: asn1crypto>=0.21.0 in /usr/lib/python3/dist-packages (from cryptography->ansible) (0.24.0)\n",
      "Requirement already satisfied: cffi!=1.11.3,>=1.8 in /usr/local/lib/python3.6/dist-packages (from cryptography->ansible) (1.12.3)\n",
      "Requirement already satisfied: pycparser in /usr/local/lib/python3.6/dist-packages (from cffi!=1.11.3,>=1.8->cryptography->ansible) (2.19)\n",
      "\u001b[33mWARNING: You are using pip version 19.2.3, however version 20.0.2 is available.\n",
      "You should consider upgrading via the 'pip install --upgrade pip' command.\u001b[0m\n",
      "Note: you may need to restart the kernel to use updated packages.\n"
     ]
    }
   ],
   "source": [
    "%pip install --user ansible netapp-lib"
   ]
  },
  {
   "cell_type": "markdown",
   "metadata": {},
   "source": [
    "## Set ONTAP cluster/instance connection details"
   ]
  },
  {
   "cell_type": "code",
   "execution_count": 3,
   "metadata": {},
   "outputs": [],
   "source": [
    "## Enter connection details for the ONTAP cluster/instance on which the destination volume resides\n",
    "ontapClusterMgmtHostname = '10.61.188.40'\n",
    "ontapClusterAdminUsername = 'admin'\n",
    "ontapClusterAdminPassword = 'NetApp!23'\n",
    "verifySSLCert = 'no' # \"yes\" or \"no\"\n",
    "##"
   ]
  },
  {
   "cell_type": "markdown",
   "metadata": {},
   "source": [
    "## Set volume details"
   ]
  },
  {
   "cell_type": "code",
   "execution_count": 4,
   "metadata": {},
   "outputs": [],
   "source": [
    "## Enter source and destination volume details\n",
    "sourceSvm = 'ailab'\n",
    "sourceVolume = 'sm' # Note: ONTAP volume name, not Kubernetes PV or PVC name\n",
    "destinationSvm = 'ai221_data'\n",
    "destinationVolume = 'sm_dest' # Note: ONTAP volume name, not Kubernetes PV or PVC name\n",
    "##"
   ]
  },
  {
   "cell_type": "markdown",
   "metadata": {},
   "source": [
    "## Define Ansible playbook for triggering SnapMirror update"
   ]
  },
  {
   "cell_type": "code",
   "execution_count": 5,
   "metadata": {},
   "outputs": [],
   "source": [
    "snapMirrorPlaybookContent = '''\n",
    "---\n",
    "- name: \"Trigger SnapMirror Update\"\n",
    "  hosts: localhost\n",
    "  tasks:\n",
    "  - name: update snapmirror\n",
    "    na_ontap_snapmirror:\n",
    "      state: present\n",
    "      source_path: '%s:%s'\n",
    "      destination_path: '%s:%s'\n",
    "      hostname: '%s'\n",
    "      username: '%s'\n",
    "      password: '%s'\n",
    "      https: 'yes'\n",
    "      validate_certs: '%s'\n",
    "''' % (sourceSvm, sourceVolume, destinationSvm, destinationVolume, ontapClusterMgmtHostname, \n",
    "       ontapClusterAdminUsername, ontapClusterAdminPassword, verifySSLCert)\n",
    "snapMirrorPlaybookFile = open(\"/home/jovyan/snapmirror-update.yaml\", \"w\")\n",
    "snapMirrorPlaybookFile.write(snapMirrorPlaybookContent)\n",
    "snapMirrorPlaybookFile.close()"
   ]
  },
  {
   "cell_type": "markdown",
   "metadata": {},
   "source": [
    "## Trigger SnapMirror update"
   ]
  },
  {
   "cell_type": "code",
   "execution_count": 6,
   "metadata": {
    "scrolled": false
   },
   "outputs": [
    {
     "name": "stdout",
     "output_type": "stream",
     "text": [
      "b'\n",
      "PLAY [Trigger SnapMirror Update] ***********************************************\n",
      "\n",
      "TASK [Gathering Facts] *********************************************************\n",
      "ok: [localhost]\n",
      "\n",
      "TASK [update snapmirror] *******************************************************\n",
      "ok: [localhost]\n",
      "\n",
      "PLAY RECAP *********************************************************************\n",
      "localhost                  : ok=2    changed=0    unreachable=0    failed=0    skipped=0    rescued=0    ignored=0   \n",
      "\n",
      "'\n"
     ]
    }
   ],
   "source": [
    "result = subprocess.check_output(['/home/jovyan/.local/bin/ansible-playbook', '/home/jovyan/snapmirror-update.yaml'])\n",
    "print(str(result).replace('\\\\n', '\\n'))"
   ]
  }
 ],
 "metadata": {
  "kernelspec": {
   "display_name": "Python 3",
   "language": "python",
   "name": "python3"
  },
  "language_info": {
   "codemirror_mode": {
    "name": "ipython",
    "version": 3
   },
   "file_extension": ".py",
   "mimetype": "text/x-python",
   "name": "python",
   "nbconvert_exporter": "python",
   "pygments_lexer": "ipython3",
   "version": "3.6.8"
  }
 },
 "nbformat": 4,
 "nbformat_minor": 2
}
